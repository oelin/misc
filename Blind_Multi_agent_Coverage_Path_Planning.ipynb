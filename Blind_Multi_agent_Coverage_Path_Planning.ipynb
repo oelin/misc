{
 "cells": [
  {
   "cell_type": "markdown",
   "id": "71c158fd-8f5c-4b9e-b2b2-45b805e313c0",
   "metadata": {},
   "source": [
    "# Blind Multi-agent Coverage Path Planning"
   ]
  },
  {
   "cell_type": "markdown",
   "id": "3dfc0626-876b-4ea8-8889-fa1cf451c77f",
   "metadata": {},
   "source": [
    "Multi-agent coverage path planning (MCPP), is the task of directing a team of mobile agents such that they collectively cover a given area of interest (AOI). Existing approaches have been classified as either decentralized or centralized, depending on whether agents compute plans individually or receive them from a central controller. However, a key drawback of current methods is their reliance on prior knowledge about the environment; for instance information about the locations of obstacles within the AOI. These methods may become ineffective in unexplored or dynamically changing environments. To address this, we introduce the notion of *blind* MCPP in which agents are assumed to posses very little information about their environment prior to planning. Specifically, we develop an adaptive scheme for blind MCPP based on Bayesian decision theory"
   ]
  },
  {
   "cell_type": "markdown",
   "id": "7fd7e781-abad-408b-8b89-efca1be41e2d",
   "metadata": {},
   "source": [
    "## Problem Formulation\n",
    "\n",
    "Let $G = (V, E)$ be a graph, called the *area of interest*. \n",
    "\n",
    "Let $A_t$ be the set of vertices occupied by agents at time $t$.\n",
    "\n",
    "Let $O_t$ be the set of vertices occupied by obstacles at time $t$.\n",
    "\n",
    "Let $A_t \\cup O_t \\subseteq C$ and $A_t \\cap O_t = \\emptyset$ for all $t$.\n",
    "\n",
    "\n",
    "We define the *coverage ratio* as "
   ]
  },
  {
   "cell_type": "code",
   "execution_count": null,
   "id": "4bb6dc5e-f029-43f1-82ff-c5f58b08ba57",
   "metadata": {},
   "outputs": [],
   "source": []
  }
 ],
 "metadata": {
  "kernelspec": {
   "display_name": "Python 3 (ipykernel)",
   "language": "python",
   "name": "python3"
  },
  "language_info": {
   "codemirror_mode": {
    "name": "ipython",
    "version": 3
   },
   "file_extension": ".py",
   "mimetype": "text/x-python",
   "name": "python",
   "nbconvert_exporter": "python",
   "pygments_lexer": "ipython3",
   "version": "3.9.2"
  }
 },
 "nbformat": 4,
 "nbformat_minor": 5
}
